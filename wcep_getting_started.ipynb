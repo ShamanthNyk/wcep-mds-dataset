{
  "nbformat": 4,
  "nbformat_minor": 0,
  "metadata": {
    "colab": {
      "name": "wcep-getting-started.ipynb",
      "provenance": []
    },
    "kernelspec": {
      "name": "python3",
      "display_name": "Python 3"
    },
    "language_info": {
      "name": "python"
    }
  },
  "cells": [
    {
      "cell_type": "markdown",
      "metadata": {
        "id": "ZwApybTwmNZ-"
      },
      "source": [
        "# Getting started with the WCEP dataset"
      ]
    },
    {
      "cell_type": "markdown",
      "metadata": {
        "id": "fHPqe76-mNkZ"
      },
      "source": [
        "## Clone repository & install dependencies"
      ]
    },
    {
      "cell_type": "code",
      "metadata": {
        "colab": {
          "base_uri": "https://localhost:8080/"
        },
        "id": "3dXMMBBLWpBS",
        "outputId": "d38638d2-b9c7-45c9-b418-a90c764f045e"
      },
      "source": [
        "!git clone https://github.com/complementizer/wcep-mds-dataset"
      ],
      "execution_count": 45,
      "outputs": [
        {
          "output_type": "stream",
          "text": [
            "Cloning into 'wcep-mds-dataset'...\n",
            "remote: Enumerating objects: 76, done.\u001b[K\n",
            "remote: Counting objects: 100% (76/76), done.\u001b[K\n",
            "remote: Compressing objects: 100% (50/50), done.\u001b[K\n",
            "remote: Total 76 (delta 34), reused 61 (delta 23), pack-reused 0\u001b[K\n",
            "Unpacking objects: 100% (76/76), done.\n"
          ],
          "name": "stdout"
        }
      ]
    },
    {
      "cell_type": "code",
      "metadata": {
        "colab": {
          "base_uri": "https://localhost:8080/"
        },
        "id": "Ek59UGXvtpth",
        "outputId": "ad07a8cc-e29e-44e9-b8c2-073993d68064"
      },
      "source": [
        "cd wcep-mds-dataset"
      ],
      "execution_count": 46,
      "outputs": [
        {
          "output_type": "stream",
          "text": [
            "/content/wcep-mds-dataset/experiments/wcep-mds-dataset\n"
          ],
          "name": "stdout"
        }
      ]
    },
    {
      "cell_type": "code",
      "metadata": {
        "colab": {
          "base_uri": "https://localhost:8080/"
        },
        "id": "nfhlv38Il0OH",
        "outputId": "a4c7749f-ea1f-446d-865d-04f636070d98"
      },
      "source": [
        "!git checkout experiments"
      ],
      "execution_count": 47,
      "outputs": [
        {
          "output_type": "stream",
          "text": [
            "Branch 'experiments' set up to track remote branch 'experiments' from 'origin'.\n",
            "Switched to a new branch 'experiments'\n"
          ],
          "name": "stdout"
        }
      ]
    },
    {
      "cell_type": "code",
      "metadata": {
        "colab": {
          "base_uri": "https://localhost:8080/"
        },
        "id": "Jiw_6QQFmDfi",
        "outputId": "96841eef-49f6-4703-b113-f55461b9e2e5"
      },
      "source": [
        "#!pip install -r requirements-exp.txt\n",
        "!python -m nltk.downloader punkt"
      ],
      "execution_count": 48,
      "outputs": [
        {
          "output_type": "stream",
          "text": [
            "/usr/lib/python3.7/runpy.py:125: RuntimeWarning: 'nltk.downloader' found in sys.modules after import of package 'nltk', but prior to execution of 'nltk.downloader'; this may result in unpredictable behaviour\n",
            "  warn(RuntimeWarning(msg))\n",
            "[nltk_data] Downloading package punkt to /root/nltk_data...\n",
            "[nltk_data]   Package punkt is already up-to-date!\n"
          ],
          "name": "stdout"
        }
      ]
    },
    {
      "cell_type": "code",
      "metadata": {
        "colab": {
          "base_uri": "https://localhost:8080/"
        },
        "id": "e6LR_Gj9mhdd",
        "outputId": "bb83e758-7d7f-4d39-d7dc-f096597c28bf"
      },
      "source": [
        "cd experiments"
      ],
      "execution_count": 49,
      "outputs": [
        {
          "output_type": "stream",
          "text": [
            "/content/wcep-mds-dataset/experiments/wcep-mds-dataset/experiments\n"
          ],
          "name": "stdout"
        }
      ]
    },
    {
      "cell_type": "markdown",
      "metadata": {
        "id": "Ox9g3nTdmvo3"
      },
      "source": [
        "## Download dataset\n"
      ]
    },
    {
      "cell_type": "code",
      "metadata": {
        "colab": {
          "base_uri": "https://localhost:8080/"
        },
        "id": "zmlyseD3m4JK",
        "outputId": "cbe6a702-adbf-45af-83dd-d8b39dcf7215"
      },
      "source": [
        "!mkdir WCEP\n",
        "!gdown https://drive.google.com/uc?id=1kUjSRXzKnTYdJ732BkKVLg3CFxDKo25u -O WCEP/train.jsonl.gz\n",
        "!gdown https://drive.google.com/uc?id=1_kHTZ32jazTbXaFRg0vBeIsVcpI7CTmy -O WCEP/val.jsonl.gz\n",
        "!gdown https://drive.google.com/uc?id=1qsd5pOCpeSXsaqNobXCrcAzhcjtG1wA1 -O WCEP/test.jsonl.gz"
      ],
      "execution_count": 17,
      "outputs": [
        {
          "output_type": "stream",
          "text": [
            "Downloading...\n",
            "From: https://drive.google.com/uc?id=1kUjSRXzKnTYdJ732BkKVLg3CFxDKo25u\n",
            "To: /content/wcep-mds-dataset/experiments/WCEP/train.jsonl.gz\n",
            "384MB [00:02, 162MB/s]\n",
            "Downloading...\n",
            "From: https://drive.google.com/uc?id=1_kHTZ32jazTbXaFRg0vBeIsVcpI7CTmy\n",
            "To: /content/wcep-mds-dataset/experiments/WCEP/val.jsonl.gz\n",
            "55.2MB [00:00, 150MB/s]\n",
            "Downloading...\n",
            "From: https://drive.google.com/uc?id=1qsd5pOCpeSXsaqNobXCrcAzhcjtG1wA1\n",
            "To: /content/wcep-mds-dataset/experiments/WCEP/test.jsonl.gz\n",
            "51.5MB [00:00, 161MB/s]\n"
          ],
          "name": "stdout"
        }
      ]
    },
    {
      "cell_type": "markdown",
      "metadata": {
        "id": "8x1SC8oysCbd"
      },
      "source": [
        "## Load dataset"
      ]
    },
    {
      "cell_type": "code",
      "metadata": {
        "id": "U_pgsRlisGVY"
      },
      "source": [
        "import utils\n",
        "\n",
        "val_data = list(utils.read_jsonl_gz('WCEP/val.jsonl.gz'))\n",
        "\n",
        "print(val_data[0].keys())"
      ],
      "execution_count": 19,
      "outputs": []
    },
    {
      "cell_type": "markdown",
      "metadata": {
        "id": "SBtm1KELsmP0"
      },
      "source": [
        "## Run extractive baselines & oracles"
      ]
    },
    {
      "cell_type": "code",
      "metadata": {
        "id": "s6ygQepSs9mu"
      },
      "source": [
        "from baselines import RandomBaseline, TextRankSummarizer, CentroidSummarizer, SubmodularSummarizer\n",
        "from oracles import Oracle"
      ],
      "execution_count": 39,
      "outputs": []
    },
    {
      "cell_type": "markdown",
      "metadata": {
        "id": "Q7DOOKFFvbvD"
      },
      "source": [
        "First we create summarizer objects and set their hyperparameters."
      ]
    },
    {
      "cell_type": "code",
      "metadata": {
        "id": "Wv-rJXfns_VJ"
      },
      "source": [
        "random_sum = RandomBaseline()\n",
        "textrank = TextRankSummarizer(max_redundancy=0.5)\n",
        "centroid = CentroidSummarizer(max_redundancy=0.5)\n",
        "submod = SubmodularSummarizer(a=5, div_weight=6, cluster_factor=0.2)\n",
        "oracle = Oracle()"
      ],
      "execution_count": 40,
      "outputs": []
    },
    {
      "cell_type": "markdown",
      "metadata": {
        "id": "wqQFXerDvziU"
      },
      "source": [
        "Below we pick one set of settings for extractive summarization that we will use for all baselines.\n",
        "`in_titles` means we add article titles as sentences in the input, and `out_titles` means we also allow these titles to be part of a summary."
      ]
    },
    {
      "cell_type": "code",
      "metadata": {
        "id": "vlnPI2ZXuQVq"
      },
      "source": [
        "settings = {\n",
        "    'max_len': 40, 'len_type': 'words',\n",
        "    'in_titles': False, 'out_titles': False,\n",
        "    'min_sent_tokens': 7, 'max_sent_tokens': 60,    \n",
        "}\n",
        "max_articles = 20"
      ],
      "execution_count": 25,
      "outputs": []
    },
    {
      "cell_type": "markdown",
      "metadata": {
        "id": "eab554ZmwfuQ"
      },
      "source": [
        "For a quick experiment, we only select the first 10 clusters of the WCEP validation data and use the first 10 articles of each cluster as inputs."
      ]
    },
    {
      "cell_type": "code",
      "metadata": {
        "id": "IQjaFzGxuSfQ"
      },
      "source": [
        "example_clusters = [c['articles'][:max_articles] for c in val_data[:10]]\n",
        "ref_summaries = [c['summary'] for c in val_data[:10]]"
      ],
      "execution_count": 26,
      "outputs": []
    },
    {
      "cell_type": "code",
      "metadata": {
        "id": "Idc7XbPluS8u"
      },
      "source": [
        "textrank_summaries = [textrank.summarize(articles, **settings) for articles in example_clusters]\n",
        "centroid_summaries = [centroid.summarize(articles, **settings) for articles in example_clusters]\n",
        "submod_summaries = [submod.summarize(articles, **settings) for articles in example_clusters]\n",
        "random_summaries = [random_sum.summarize(articles, **settings) for articles in example_clusters]"
      ],
      "execution_count": 31,
      "outputs": []
    },
    {
      "cell_type": "code",
      "metadata": {
        "id": "KsI0U_GFxVO2"
      },
      "source": [
        "oracle_summaries = [oracle.summarize(ref, articles, **settings)\n",
        "                    for (ref, articles) in zip(ref_summaries, example_clusters)]"
      ],
      "execution_count": 42,
      "outputs": []
    },
    {
      "cell_type": "markdown",
      "metadata": {
        "id": "Z0uLcSCJuwfJ"
      },
      "source": [
        "## Evaluate summaries\n",
        "\n"
      ]
    },
    {
      "cell_type": "code",
      "metadata": {
        "id": "MdEhYT7vuy2a"
      },
      "source": [
        "from pprint import pprint\n",
        "from evaluate import evaluate"
      ],
      "execution_count": 33,
      "outputs": []
    },
    {
      "cell_type": "code",
      "metadata": {
        "colab": {
          "base_uri": "https://localhost:8080/"
        },
        "id": "YMtIIDhhu0ui",
        "outputId": "3143ccc6-76cc-41cd-b6a4-57e5fbde9470"
      },
      "source": [
        "names = ['TextRank', 'Centroid', 'Submodular', 'Oracle', 'Random']\n",
        "outputs = [textrank_summaries, centroid_summaries, submod_summaries, oracle_summaries, random_summaries]\n",
        "\n",
        "for preds, name in zip(outputs, names):\n",
        "    print(name)\n",
        "    results = evaluate(ref_summaries, preds, lowercase=True)\n",
        "    pprint(results)\n",
        "    print()"
      ],
      "execution_count": 43,
      "outputs": [
        {
          "output_type": "stream",
          "text": [
            "TextRank\n",
            "{'rouge-1': {'f': 0.344, 'p': 0.302, 'r': 0.434},\n",
            " 'rouge-2': {'f': 0.174, 'p': 0.145, 'r': 0.237},\n",
            " 'rouge-l': {'f': 0.282, 'p': 0.246, 'r': 0.357}}\n",
            "\n",
            "Centroid\n",
            "{'rouge-1': {'f': 0.344, 'p': 0.301, 'r': 0.434},\n",
            " 'rouge-2': {'f': 0.174, 'p': 0.145, 'r': 0.237},\n",
            " 'rouge-l': {'f': 0.281, 'p': 0.246, 'r': 0.357}}\n",
            "\n",
            "Submodular\n",
            "{'rouge-1': {'f': 0.347, 'p': 0.307, 'r': 0.433},\n",
            " 'rouge-2': {'f': 0.197, 'p': 0.169, 'r': 0.258},\n",
            " 'rouge-l': {'f': 0.3, 'p': 0.265, 'r': 0.374}}\n",
            "\n",
            "Oracle\n",
            "{'rouge-1': {'f': 0.489, 'p': 0.465, 'r': 0.547},\n",
            " 'rouge-2': {'f': 0.265, 'p': 0.247, 'r': 0.308},\n",
            " 'rouge-l': {'f': 0.403, 'p': 0.385, 'r': 0.45}}\n",
            "\n",
            "Random\n",
            "{'rouge-1': {'f': 0.147, 'p': 0.136, 'r': 0.171},\n",
            " 'rouge-2': {'f': 0.01, 'p': 0.009, 'r': 0.011},\n",
            " 'rouge-l': {'f': 0.127, 'p': 0.117, 'r': 0.151}}\n",
            "\n"
          ],
          "name": "stdout"
        }
      ]
    },
    {
      "cell_type": "markdown",
      "metadata": {
        "id": "L_6WUfV-wwBd"
      },
      "source": [
        "Let's look at some example summaries."
      ]
    },
    {
      "cell_type": "code",
      "metadata": {
        "colab": {
          "base_uri": "https://localhost:8080/"
        },
        "id": "b0hgVBJ8wvGT",
        "outputId": "37bd7b06-eede-4e22-d720-17af6ddb0901"
      },
      "source": [
        "cluster_idx = 8\n",
        "for preds, name in zip(outputs, names):\n",
        "    print(name)\n",
        "    print(preds[cluster_idx])\n",
        "    print()"
      ],
      "execution_count": 44,
      "outputs": [
        {
          "output_type": "stream",
          "text": [
            "TextRank\n",
            "Dalton wanted to plead guilty to the charges against his attorney’s advice, Getting said. Families of victims react to surprise guilty plea in Kalamazoo Uber shooting case Police also confirmed Dalton had no criminal record.\n",
            "\n",
            "Centroid\n",
            "Dalton wanted to plead guilty to the charges against his attorney’s advice, Getting said. Families of victims react to surprise guilty plea in Kalamazoo Uber shooting case Police also confirmed Dalton had no criminal record.\n",
            "\n",
            "Submodular\n",
            "Dalton wanted to plead guilty to the charges against his attorney’s advice, Getting said. Dalton was driving for Uber at the time and picked up fares between shooting people, police have said.\n",
            "\n",
            "Oracle\n",
            "The Uber driver charged with killing six people and seriously wounding two more in a shooting spree around Kalamazoo, Michigan, in 2016 pleaded guilty Monday to all counts against him.\n",
            "\n",
            "Random\n",
            "“I was glad to be able to have the opportunity to do this from the office,” Williams said. Jury selection started in a closed courtroom Thursday, Jan. 3.\n",
            "\n"
          ],
          "name": "stdout"
        }
      ]
    }
  ]
}